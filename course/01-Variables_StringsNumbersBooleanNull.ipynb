{
 "cells": [
  {
   "cell_type": "markdown",
   "metadata": {
    "collapsed": true
   },
   "source": [
    "# Variables - Strings, Numbers, Booleans and Null\n",
    "\n",
    "Welcome to the first notebook lesson about variables!\n",
    "\n",
    "You are about to learn the most common data types in python, which are Strings, Numbers (Integers, Floats), Booleans (True-False values) and Null!\n",
    "\n",
    "Here we will only look at the **data types** for a basic usage. In later lessons, we will explore more indepth manipulations and computations. One entire lesson is dedicated to working with strings!"
   ]
  },
  {
   "cell_type": "markdown",
   "metadata": {},
   "source": [
    "## 1. Strings\n",
    "\n",
    "A string is simply some **text**.\n",
    "\n",
    "In Python, you store a string between single or double quotes (' or \"). There are no differences between them."
   ]
  },
  {
   "cell_type": "code",
   "execution_count": null,
   "metadata": {
    "collapsed": true
   },
   "outputs": [],
   "source": [
    "# Define a variable called message that holds the text: Winter is coming!\n",
    "message= \"Winter is coming!\"\n",
    "print(message)"
   ]
  },
  {
   "cell_type": "code",
   "execution_count": null,
   "metadata": {
    "collapsed": false
   },
   "outputs": [],
   "source": []
  },
  {
   "cell_type": "code",
   "execution_count": null,
   "metadata": {
    "collapsed": false
   },
   "outputs": [],
   "source": []
  },
  {
   "cell_type": "markdown",
   "metadata": {},
   "source": [
    "The real difference between single and double quotes is actually based on what the inside of your string looks like.\n",
    "If you want to use a single quote in a string defined with single quotes, then you need to escape / backslash the quote you want to store."
   ]
  },
  {
   "cell_type": "code",
   "execution_count": null,
   "metadata": {
    "collapsed": false
   },
   "outputs": [],
   "source": []
  },
  {
   "cell_type": "code",
   "execution_count": 4,
   "metadata": {
    "collapsed": false
   },
   "outputs": [],
   "source": [
    "# Just swtitch to double quotes and your code is more simple.\n"
   ]
  },
  {
   "cell_type": "markdown",
   "metadata": {},
   "source": [
    "### Some special symbols\n",
    "\n",
    "If you want to put some special characters like a new line, you will need to use the so called backslash notation:"
   ]
  },
  {
   "cell_type": "code",
   "execution_count": 5,
   "metadata": {
    "collapsed": false
   },
   "outputs": [],
   "source": [
    "# \\n\n"
   ]
  },
  {
   "cell_type": "code",
   "execution_count": 6,
   "metadata": {
    "collapsed": false
   },
   "outputs": [],
   "source": [
    "# Backslash \\\\\n"
   ]
  },
  {
   "cell_type": "code",
   "execution_count": null,
   "metadata": {
    "collapsed": false
   },
   "outputs": [],
   "source": []
  },
  {
   "cell_type": "markdown",
   "metadata": {},
   "source": [
    "## 2. Numbers\n",
    "\n",
    "Next up: integers and floats.\n",
    "\n",
    "Again, we will just cover the basic usage."
   ]
  },
  {
   "cell_type": "markdown",
   "metadata": {},
   "source": [
    "### Integers"
   ]
  },
  {
   "cell_type": "code",
   "execution_count": null,
   "metadata": {
    "collapsed": true
   },
   "outputs": [],
   "source": []
  },
  {
   "cell_type": "code",
   "execution_count": 7,
   "metadata": {
    "collapsed": false
   },
   "outputs": [],
   "source": [
    "# Print a string and append a variable\n"
   ]
  },
  {
   "cell_type": "markdown",
   "metadata": {},
   "source": [
    "You can convert, for example, a **string** into an **integer**.\n",
    "\n",
    "It is called **casting**."
   ]
  },
  {
   "cell_type": "code",
   "execution_count": 8,
   "metadata": {
    "collapsed": false
   },
   "outputs": [],
   "source": [
    "# Cast string to int\n"
   ]
  },
  {
   "cell_type": "code",
   "execution_count": 9,
   "metadata": {
    "collapsed": false
   },
   "outputs": [],
   "source": [
    "# This will fail\n"
   ]
  },
  {
   "cell_type": "markdown",
   "metadata": {},
   "source": [
    "### Floats"
   ]
  },
  {
   "cell_type": "code",
   "execution_count": 10,
   "metadata": {
    "collapsed": false
   },
   "outputs": [],
   "source": [
    "# A float. The type is interpreted from what the variable contains.\n"
   ]
  },
  {
   "cell_type": "code",
   "execution_count": 11,
   "metadata": {
    "collapsed": false
   },
   "outputs": [],
   "source": [
    "# Cast a string to a float\n"
   ]
  },
  {
   "cell_type": "code",
   "execution_count": 12,
   "metadata": {
    "collapsed": false
   },
   "outputs": [],
   "source": [
    "# Casting an int to a float also works\n"
   ]
  },
  {
   "cell_type": "code",
   "execution_count": 13,
   "metadata": {
    "collapsed": false
   },
   "outputs": [],
   "source": [
    "# Casting a float to an int removes everything behind the comma!\n"
   ]
  },
  {
   "cell_type": "code",
   "execution_count": 14,
   "metadata": {
    "collapsed": false
   },
   "outputs": [],
   "source": [
    "# No round up.\n"
   ]
  },
  {
   "cell_type": "markdown",
   "metadata": {},
   "source": [
    "### Complex Numbers (BONUS for the math-lovers)"
   ]
  },
  {
   "cell_type": "code",
   "execution_count": 15,
   "metadata": {
    "collapsed": false
   },
   "outputs": [],
   "source": [
    "# One way to define a complex number\n"
   ]
  },
  {
   "cell_type": "code",
   "execution_count": 16,
   "metadata": {
    "collapsed": false
   },
   "outputs": [],
   "source": [
    "# Another way:\n"
   ]
  },
  {
   "cell_type": "code",
   "execution_count": 17,
   "metadata": {
    "collapsed": false
   },
   "outputs": [],
   "source": [
    "# Then you can access a few attributes\n"
   ]
  },
  {
   "cell_type": "markdown",
   "metadata": {},
   "source": [
    "### Some built-in functions for numbers"
   ]
  },
  {
   "cell_type": "code",
   "execution_count": 18,
   "metadata": {
    "collapsed": false
   },
   "outputs": [
    {
     "name": "stdout",
     "output_type": "stream",
     "text": [
      "|-20|   = Ellipsis\n",
      "|-8.76| = Ellipsis\n",
      "|-1|    = Ellipsis\n",
      "|0|     = Ellipsis\n",
      "|120|   = Ellipsis\n"
     ]
    }
   ],
   "source": [
    "# Get the absolute value of a number with abs()\n",
    "\n",
    "print('|-20|   =', ... )\n",
    "print('|-8.76| =', ... )\n",
    "print('|-1|    =', ... )\n",
    "print('|0|     =', ... )\n",
    "print('|120|   =', ... )"
   ]
  },
  {
   "cell_type": "code",
   "execution_count": 19,
   "metadata": {
    "collapsed": false
   },
   "outputs": [
    {
     "name": "stdout",
     "output_type": "stream",
     "text": [
      "round(1)   = Ellipsis\n",
      "round(1.1) = Ellipsis\n",
      "round(1.2) = Ellipsis\n",
      "round(1.3) = Ellipsis\n",
      "round(1.4) = Ellipsis\n",
      "round(1.5) = Ellipsis\n",
      "round(1.6) = Ellipsis\n",
      "round(1.7) = Ellipsis\n",
      "round(1.8) = Ellipsis\n",
      "round(1.9) = Ellipsis\n"
     ]
    }
   ],
   "source": [
    "# Round to the nearest integer with round()\n",
    "\n",
    "print('round(1)   =', ...)\n",
    "print('round(1.1) =', ...)\n",
    "print('round(1.2) =', ...)\n",
    "print('round(1.3) =', ...)\n",
    "print('round(1.4) =', ...)\n",
    "print('round(1.5) =', ...)\n",
    "print('round(1.6) =', ...)\n",
    "print('round(1.7) =', ...)\n",
    "print('round(1.8) =', ...)\n",
    "print('round(1.9) =', ...)"
   ]
  },
  {
   "cell_type": "code",
   "execution_count": 20,
   "metadata": {
    "collapsed": false
   },
   "outputs": [
    {
     "name": "stdout",
     "output_type": "stream",
     "text": [
      "round(3.14159265359, 0) = Ellipsis\n",
      "round(3.14159265359, 1) = Ellipsis\n",
      "round(3.14159265359, 2) = Ellipsis\n",
      "round(3.14159265359, 3) = Ellipsis\n",
      "round(3.14159265359, 4) = Ellipsis\n"
     ]
    }
   ],
   "source": [
    "pi = 3.14159265359\n",
    "\n",
    "print('round(3.14159265359, 0) =', ...)\n",
    "print('round(3.14159265359, 1) =', ...)\n",
    "print('round(3.14159265359, 2) =', ...)\n",
    "print('round(3.14159265359, 3) =', ...)\n",
    "print('round(3.14159265359, 4) =', ...)"
   ]
  },
  {
   "cell_type": "markdown",
   "metadata": {},
   "source": [
    "### The type of a variable\n",
    "\n",
    "**Little Trick**: You can check the type of a variable with type()"
   ]
  },
  {
   "cell_type": "code",
   "execution_count": null,
   "metadata": {
    "collapsed": false
   },
   "outputs": [],
   "source": []
  },
  {
   "cell_type": "code",
   "execution_count": null,
   "metadata": {
    "collapsed": false
   },
   "outputs": [],
   "source": []
  },
  {
   "cell_type": "code",
   "execution_count": null,
   "metadata": {
    "collapsed": false
   },
   "outputs": [],
   "source": []
  },
  {
   "cell_type": "markdown",
   "metadata": {},
   "source": [
    "Python is an intepreted language and variables have no strict type.\n",
    "\n",
    "This means that you can change a variables value to anything at any time."
   ]
  },
  {
   "cell_type": "code",
   "execution_count": 21,
   "metadata": {
    "collapsed": false
   },
   "outputs": [
    {
     "name": "stdout",
     "output_type": "stream",
     "text": [
      "Type of price variable before: Ellipsis\n",
      "Type of price variable after: Ellipsis\n"
     ]
    }
   ],
   "source": [
    "\n",
    "print('Type of price variable before:', ...)\n",
    "      \n",
    "\n",
    "print('Type of price variable after:', ...)"
   ]
  },
  {
   "cell_type": "markdown",
   "metadata": {},
   "source": [
    "## 3. Booleans\n",
    "\n",
    "A Boolean is a binary variable. It can be `0` or `1`, `False` or `True`.\n",
    "It is also often reffered to as a \"flag\", because you put the the flag **up** (True) or **down** (False)"
   ]
  },
  {
   "cell_type": "code",
   "execution_count": null,
   "metadata": {
    "collapsed": false
   },
   "outputs": [],
   "source": []
  },
  {
   "cell_type": "markdown",
   "metadata": {},
   "source": [
    "In Python, you can cast everything to a boolean."
   ]
  },
  {
   "cell_type": "code",
   "execution_count": null,
   "metadata": {
    "collapsed": false
   },
   "outputs": [],
   "source": []
  },
  {
   "cell_type": "markdown",
   "metadata": {},
   "source": [
    "All those things evaluate to `False`:"
   ]
  },
  {
   "cell_type": "code",
   "execution_count": null,
   "metadata": {
    "collapsed": false
   },
   "outputs": [],
   "source": []
  },
  {
   "cell_type": "markdown",
   "metadata": {},
   "source": [
    "And all those things evaluate to True:"
   ]
  },
  {
   "cell_type": "code",
   "execution_count": null,
   "metadata": {
    "collapsed": false
   },
   "outputs": [],
   "source": []
  },
  {
   "cell_type": "markdown",
   "metadata": {},
   "source": [
    "*As a rule of thumb:* \"Something\" is always True, \"Nothing\" is always false."
   ]
  },
  {
   "cell_type": "markdown",
   "metadata": {},
   "source": [
    "## 4 Null"
   ]
  },
  {
   "cell_type": "markdown",
   "metadata": {},
   "source": [
    "Null in programming means \"nothing\", \"no value\", \"void\", \"empty\", ...\n",
    "\n",
    "In Python you use the keyword `None`.\n",
    "\n",
    "To create / initialize a variable you must give it a value. If you really want to give it nothing, well, then you give it \"nothing\"."
   ]
  },
  {
   "cell_type": "code",
   "execution_count": 22,
   "metadata": {
    "collapsed": false
   },
   "outputs": [],
   "source": [
    "# This fails\n"
   ]
  },
  {
   "cell_type": "code",
   "execution_count": 23,
   "metadata": {
    "collapsed": false
   },
   "outputs": [
    {
     "name": "stdout",
     "output_type": "stream",
     "text": [
      "The variable content:         Ellipsis\n",
      "The variable type:            Ellipsis\n",
      "The variable boolean result:  Ellipsis\n"
     ]
    }
   ],
   "source": [
    "\n",
    "print('The variable content:        ', ...)\n",
    "print('The variable type:           ', ...)\n",
    "print('The variable boolean result: ', ...)"
   ]
  },
  {
   "cell_type": "code",
   "execution_count": null,
   "metadata": {
    "collapsed": true
   },
   "outputs": [],
   "source": []
  }
 ],
 "metadata": {
  "anaconda-cloud": {},
  "kernelspec": {
   "display_name": "Python 3",
   "language": "python",
   "name": "python3"
  },
  "language_info": {
   "codemirror_mode": {
    "name": "ipython",
    "version": 3
   },
   "file_extension": ".py",
   "mimetype": "text/x-python",
   "name": "python",
   "nbconvert_exporter": "python",
   "pygments_lexer": "ipython3",
   "version": "3.10.8"
  },
  "vscode": {
   "interpreter": {
    "hash": "aee8b7b246df8f9039afb4144a1f6fd8d2ca17a180786b69acc140d282b71a49"
   }
  }
 },
 "nbformat": 4,
 "nbformat_minor": 0
}
